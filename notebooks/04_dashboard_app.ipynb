
{
 "cells": [
  {
   "cell_type": "markdown",
   "source": ["# 🎛️ Step 4: Streamlit Dashboard Starter"]
  },
  {
   "cell_type": "code",
   "source": [
    "# Streamlit app preview\n",
    "import streamlit as st\n",
    "import pandas as pd\n",
    "df = pd.read_csv('../data/processed_FD001.csv')\n",
    "engine_id = st.selectbox('Select Engine', df['unit_number'].unique())\n",
    "engine_data = df[df['unit_number'] == engine_id]\n",
    "st.line_chart(engine_data[['time_in_cycles', 'sensor_2', 'sensor_3']].set_index('time_in_cycles'))\n",
    "st.write('Predicted RUL will go here')"
   ]
  }
 ],
 "metadata": {
  "kernelspec": { "display_name": "Python 3", "language": "python", "name": "python3" }
 },
 "nbformat": 4,
 "nbformat_minor": 5
}
