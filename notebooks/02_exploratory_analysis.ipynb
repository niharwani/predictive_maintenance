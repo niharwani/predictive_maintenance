
{
 "cells": [
  {
   "cell_type": "markdown",
   "source": ["# 📊 Step 2: Exploratory Analysis"]
  },
  {
   "cell_type": "code",
   "source": [
    "import pandas as pd\n",
    "import seaborn as sns\n",
    "import matplotlib.pyplot as plt\n",
    "df = pd.read_csv('../data/processed_FD001.csv')\n",
    "sns.heatmap(df.corr().iloc[:, -10:], annot=False, cmap='coolwarm')\n",
    "plt.title('Correlation Heatmap (last 10 sensors vs RUL)')\n",
    "plt.show()"
   ]
  }
 ],
 "metadata": {
  "kernelspec": { "display_name": "Python 3", "language": "python", "name": "python3" }
 },
 "nbformat": 4,
 "nbformat_minor": 5
}
